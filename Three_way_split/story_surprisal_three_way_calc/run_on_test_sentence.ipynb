{
 "cells": [
  {
   "cell_type": "code",
   "execution_count": 2,
   "id": "797e110c",
   "metadata": {},
   "outputs": [],
   "source": [
    "import sys\n",
    "import os\n",
    "\n",
    "# Add the directory containing lingpred to sys.path\n",
    "# sys.path.append(os.path.abspath(\"/Volumes/Franknano/Matlab_Project/PROJECT_HH_ENGLISH/Pilot_Analysis_3_Way_Split/lingpred/lingpred\"))\n",
    "sys.path.append(os.path.abspath(\"F:\\Matlab_Project\\PROJECT_HH_ENGLISH\\Pilot_Analysis_3_Way_Split\\lingpred\\lingpred\"))"
   ]
  },
  {
   "cell_type": "code",
   "execution_count": 3,
   "id": "f1194f8c",
   "metadata": {},
   "outputs": [
    {
     "name": "stderr",
     "output_type": "stream",
     "text": [
      "\n",
      "A module that was compiled using NumPy 1.x cannot be run in\n",
      "NumPy 2.2.6 as it may crash. To support both 1.x and 2.x\n",
      "versions of NumPy, modules must be compiled with NumPy 2.0.\n",
      "Some module may need to rebuild instead e.g. with 'pybind11>=2.12'.\n",
      "\n",
      "If you are a user of the module, the easiest solution will be to\n",
      "downgrade to 'numpy<2' or try to upgrade the affected module.\n",
      "We expect that some modules will need time to support NumPy 2.\n",
      "\n",
      "Traceback (most recent call last):  File \"d:\\miniconda3\\envs\\fnirs_nlp\\lib\\runpy.py\", line 196, in _run_module_as_main\n",
      "    return _run_code(code, main_globals, None,\n",
      "  File \"d:\\miniconda3\\envs\\fnirs_nlp\\lib\\runpy.py\", line 86, in _run_code\n",
      "    exec(code, run_globals)\n",
      "  File \"d:\\miniconda3\\envs\\fnirs_nlp\\lib\\site-packages\\ipykernel_launcher.py\", line 18, in <module>\n",
      "    app.launch_new_instance()\n",
      "  File \"d:\\miniconda3\\envs\\fnirs_nlp\\lib\\site-packages\\traitlets\\config\\application.py\", line 1075, in launch_instance\n",
      "    app.start()\n",
      "  File \"d:\\miniconda3\\envs\\fnirs_nlp\\lib\\site-packages\\ipykernel\\kernelapp.py\", line 739, in start\n",
      "    self.io_loop.start()\n",
      "  File \"d:\\miniconda3\\envs\\fnirs_nlp\\lib\\site-packages\\tornado\\platform\\asyncio.py\", line 205, in start\n",
      "    self.asyncio_loop.run_forever()\n",
      "  File \"d:\\miniconda3\\envs\\fnirs_nlp\\lib\\asyncio\\base_events.py\", line 603, in run_forever\n",
      "    self._run_once()\n",
      "  File \"d:\\miniconda3\\envs\\fnirs_nlp\\lib\\asyncio\\base_events.py\", line 1909, in _run_once\n",
      "    handle._run()\n",
      "  File \"d:\\miniconda3\\envs\\fnirs_nlp\\lib\\asyncio\\events.py\", line 80, in _run\n",
      "    self._context.run(self._callback, *self._args)\n",
      "  File \"d:\\miniconda3\\envs\\fnirs_nlp\\lib\\site-packages\\ipykernel\\kernelbase.py\", line 545, in dispatch_queue\n",
      "    await self.process_one()\n",
      "  File \"d:\\miniconda3\\envs\\fnirs_nlp\\lib\\site-packages\\ipykernel\\kernelbase.py\", line 534, in process_one\n",
      "    await dispatch(*args)\n",
      "  File \"d:\\miniconda3\\envs\\fnirs_nlp\\lib\\site-packages\\ipykernel\\kernelbase.py\", line 437, in dispatch_shell\n",
      "    await result\n",
      "  File \"d:\\miniconda3\\envs\\fnirs_nlp\\lib\\site-packages\\ipykernel\\ipkernel.py\", line 362, in execute_request\n",
      "    await super().execute_request(stream, ident, parent)\n",
      "  File \"d:\\miniconda3\\envs\\fnirs_nlp\\lib\\site-packages\\ipykernel\\kernelbase.py\", line 778, in execute_request\n",
      "    reply_content = await reply_content\n",
      "  File \"d:\\miniconda3\\envs\\fnirs_nlp\\lib\\site-packages\\ipykernel\\ipkernel.py\", line 449, in do_execute\n",
      "    res = shell.run_cell(\n",
      "  File \"d:\\miniconda3\\envs\\fnirs_nlp\\lib\\site-packages\\ipykernel\\zmqshell.py\", line 549, in run_cell\n",
      "    return super().run_cell(*args, **kwargs)\n",
      "  File \"d:\\miniconda3\\envs\\fnirs_nlp\\lib\\site-packages\\IPython\\core\\interactiveshell.py\", line 3075, in run_cell\n",
      "    result = self._run_cell(\n",
      "  File \"d:\\miniconda3\\envs\\fnirs_nlp\\lib\\site-packages\\IPython\\core\\interactiveshell.py\", line 3130, in _run_cell\n",
      "    result = runner(coro)\n",
      "  File \"d:\\miniconda3\\envs\\fnirs_nlp\\lib\\site-packages\\IPython\\core\\async_helpers.py\", line 128, in _pseudo_sync_runner\n",
      "    coro.send(None)\n",
      "  File \"d:\\miniconda3\\envs\\fnirs_nlp\\lib\\site-packages\\IPython\\core\\interactiveshell.py\", line 3334, in run_cell_async\n",
      "    has_raised = await self.run_ast_nodes(code_ast.body, cell_name,\n",
      "  File \"d:\\miniconda3\\envs\\fnirs_nlp\\lib\\site-packages\\IPython\\core\\interactiveshell.py\", line 3517, in run_ast_nodes\n",
      "    if await self.run_code(code, result, async_=asy):\n",
      "  File \"d:\\miniconda3\\envs\\fnirs_nlp\\lib\\site-packages\\IPython\\core\\interactiveshell.py\", line 3577, in run_code\n",
      "    exec(code_obj, self.user_global_ns, self.user_ns)\n",
      "  File \"C:\\Users\\xiaos\\AppData\\Local\\Temp\\ipykernel_22944\\595855545.py\", line 1, in <module>\n",
      "    from lingpred.lingpred.pipeline import LingPred\n",
      "  File \"f:\\Matlab_Project\\PROJECT_HH_ENGLISH\\Pilot_Analysis_3_Way_Split\\lingpred\\lingpred\\pipeline.py\", line 2, in <module>\n",
      "    import pandas as pd\n",
      "  File \"d:\\miniconda3\\envs\\fnirs_nlp\\lib\\site-packages\\pandas\\__init__.py\", line 26, in <module>\n",
      "    from pandas.compat import (\n",
      "  File \"d:\\miniconda3\\envs\\fnirs_nlp\\lib\\site-packages\\pandas\\compat\\__init__.py\", line 27, in <module>\n",
      "    from pandas.compat.pyarrow import (\n",
      "  File \"d:\\miniconda3\\envs\\fnirs_nlp\\lib\\site-packages\\pandas\\compat\\pyarrow.py\", line 8, in <module>\n",
      "    import pyarrow as pa\n",
      "  File \"d:\\miniconda3\\envs\\fnirs_nlp\\lib\\site-packages\\pyarrow\\__init__.py\", line 65, in <module>\n",
      "    import pyarrow.lib as _lib\n"
     ]
    },
    {
     "ename": "AttributeError",
     "evalue": "_ARRAY_API not found",
     "output_type": "error",
     "traceback": [
      "\u001b[1;31m---------------------------------------------------------------------------\u001b[0m",
      "\u001b[1;31mAttributeError\u001b[0m                            Traceback (most recent call last)",
      "\u001b[1;31mAttributeError\u001b[0m: _ARRAY_API not found"
     ]
    },
    {
     "name": "stderr",
     "output_type": "stream",
     "text": [
      "\n",
      "A module that was compiled using NumPy 1.x cannot be run in\n",
      "NumPy 2.2.6 as it may crash. To support both 1.x and 2.x\n",
      "versions of NumPy, modules must be compiled with NumPy 2.0.\n",
      "Some module may need to rebuild instead e.g. with 'pybind11>=2.12'.\n",
      "\n",
      "If you are a user of the module, the easiest solution will be to\n",
      "downgrade to 'numpy<2' or try to upgrade the affected module.\n",
      "We expect that some modules will need time to support NumPy 2.\n",
      "\n",
      "Traceback (most recent call last):  File \"d:\\miniconda3\\envs\\fnirs_nlp\\lib\\runpy.py\", line 196, in _run_module_as_main\n",
      "    return _run_code(code, main_globals, None,\n",
      "  File \"d:\\miniconda3\\envs\\fnirs_nlp\\lib\\runpy.py\", line 86, in _run_code\n",
      "    exec(code, run_globals)\n",
      "  File \"d:\\miniconda3\\envs\\fnirs_nlp\\lib\\site-packages\\ipykernel_launcher.py\", line 18, in <module>\n",
      "    app.launch_new_instance()\n",
      "  File \"d:\\miniconda3\\envs\\fnirs_nlp\\lib\\site-packages\\traitlets\\config\\application.py\", line 1075, in launch_instance\n",
      "    app.start()\n",
      "  File \"d:\\miniconda3\\envs\\fnirs_nlp\\lib\\site-packages\\ipykernel\\kernelapp.py\", line 739, in start\n",
      "    self.io_loop.start()\n",
      "  File \"d:\\miniconda3\\envs\\fnirs_nlp\\lib\\site-packages\\tornado\\platform\\asyncio.py\", line 205, in start\n",
      "    self.asyncio_loop.run_forever()\n",
      "  File \"d:\\miniconda3\\envs\\fnirs_nlp\\lib\\asyncio\\base_events.py\", line 603, in run_forever\n",
      "    self._run_once()\n",
      "  File \"d:\\miniconda3\\envs\\fnirs_nlp\\lib\\asyncio\\base_events.py\", line 1909, in _run_once\n",
      "    handle._run()\n",
      "  File \"d:\\miniconda3\\envs\\fnirs_nlp\\lib\\asyncio\\events.py\", line 80, in _run\n",
      "    self._context.run(self._callback, *self._args)\n",
      "  File \"d:\\miniconda3\\envs\\fnirs_nlp\\lib\\site-packages\\ipykernel\\kernelbase.py\", line 545, in dispatch_queue\n",
      "    await self.process_one()\n",
      "  File \"d:\\miniconda3\\envs\\fnirs_nlp\\lib\\site-packages\\ipykernel\\kernelbase.py\", line 534, in process_one\n",
      "    await dispatch(*args)\n",
      "  File \"d:\\miniconda3\\envs\\fnirs_nlp\\lib\\site-packages\\ipykernel\\kernelbase.py\", line 437, in dispatch_shell\n",
      "    await result\n",
      "  File \"d:\\miniconda3\\envs\\fnirs_nlp\\lib\\site-packages\\ipykernel\\ipkernel.py\", line 362, in execute_request\n",
      "    await super().execute_request(stream, ident, parent)\n",
      "  File \"d:\\miniconda3\\envs\\fnirs_nlp\\lib\\site-packages\\ipykernel\\kernelbase.py\", line 778, in execute_request\n",
      "    reply_content = await reply_content\n",
      "  File \"d:\\miniconda3\\envs\\fnirs_nlp\\lib\\site-packages\\ipykernel\\ipkernel.py\", line 449, in do_execute\n",
      "    res = shell.run_cell(\n",
      "  File \"d:\\miniconda3\\envs\\fnirs_nlp\\lib\\site-packages\\ipykernel\\zmqshell.py\", line 549, in run_cell\n",
      "    return super().run_cell(*args, **kwargs)\n",
      "  File \"d:\\miniconda3\\envs\\fnirs_nlp\\lib\\site-packages\\IPython\\core\\interactiveshell.py\", line 3075, in run_cell\n",
      "    result = self._run_cell(\n",
      "  File \"d:\\miniconda3\\envs\\fnirs_nlp\\lib\\site-packages\\IPython\\core\\interactiveshell.py\", line 3130, in _run_cell\n",
      "    result = runner(coro)\n",
      "  File \"d:\\miniconda3\\envs\\fnirs_nlp\\lib\\site-packages\\IPython\\core\\async_helpers.py\", line 128, in _pseudo_sync_runner\n",
      "    coro.send(None)\n",
      "  File \"d:\\miniconda3\\envs\\fnirs_nlp\\lib\\site-packages\\IPython\\core\\interactiveshell.py\", line 3334, in run_cell_async\n",
      "    has_raised = await self.run_ast_nodes(code_ast.body, cell_name,\n",
      "  File \"d:\\miniconda3\\envs\\fnirs_nlp\\lib\\site-packages\\IPython\\core\\interactiveshell.py\", line 3517, in run_ast_nodes\n",
      "    if await self.run_code(code, result, async_=asy):\n",
      "  File \"d:\\miniconda3\\envs\\fnirs_nlp\\lib\\site-packages\\IPython\\core\\interactiveshell.py\", line 3577, in run_code\n",
      "    exec(code_obj, self.user_global_ns, self.user_ns)\n",
      "  File \"C:\\Users\\xiaos\\AppData\\Local\\Temp\\ipykernel_22944\\595855545.py\", line 1, in <module>\n",
      "    from lingpred.lingpred.pipeline import LingPred\n",
      "  File \"f:\\Matlab_Project\\PROJECT_HH_ENGLISH\\Pilot_Analysis_3_Way_Split\\lingpred\\lingpred\\pipeline.py\", line 2, in <module>\n",
      "    import pandas as pd\n",
      "  File \"d:\\miniconda3\\envs\\fnirs_nlp\\lib\\site-packages\\pandas\\__init__.py\", line 49, in <module>\n",
      "    from pandas.core.api import (\n",
      "  File \"d:\\miniconda3\\envs\\fnirs_nlp\\lib\\site-packages\\pandas\\core\\api.py\", line 9, in <module>\n",
      "    from pandas.core.dtypes.dtypes import (\n",
      "  File \"d:\\miniconda3\\envs\\fnirs_nlp\\lib\\site-packages\\pandas\\core\\dtypes\\dtypes.py\", line 24, in <module>\n",
      "    from pandas._libs import (\n",
      "  File \"d:\\miniconda3\\envs\\fnirs_nlp\\lib\\site-packages\\pyarrow\\__init__.py\", line 65, in <module>\n",
      "    import pyarrow.lib as _lib\n"
     ]
    },
    {
     "ename": "AttributeError",
     "evalue": "_ARRAY_API not found",
     "output_type": "error",
     "traceback": [
      "\u001b[1;31m---------------------------------------------------------------------------\u001b[0m",
      "\u001b[1;31mAttributeError\u001b[0m                            Traceback (most recent call last)",
      "\u001b[1;31mAttributeError\u001b[0m: _ARRAY_API not found"
     ]
    },
    {
     "name": "stderr",
     "output_type": "stream",
     "text": [
      "[nltk_data] Downloading package cmudict to\n",
      "[nltk_data]     C:\\Users\\xiaos\\AppData\\Roaming\\nltk_data...\n",
      "[nltk_data]   Package cmudict is already up-to-date!\n"
     ]
    }
   ],
   "source": [
    "from lingpred.lingpred.pipeline import LingPred"
   ]
  },
  {
   "cell_type": "code",
   "execution_count": 4,
   "id": "a11f1014",
   "metadata": {},
   "outputs": [],
   "source": [
    "#!python -m spacy download en_core_web_sm"
   ]
  },
  {
   "cell_type": "code",
   "execution_count": 5,
   "id": "a520f21f",
   "metadata": {},
   "outputs": [
    {
     "name": "stdout",
     "output_type": "stream",
     "text": [
      "GPT-2 model (size S) loaded...\n",
      "POS Debug - Context: fColorless\n",
      "top-size: 3265\n",
      "POS Debug - Context: fColorless green\n",
      "top-size: 8306\n",
      "POS Debug - Context: fColorless green ideas\n",
      "top-size: 4005\n",
      "POS Debug - Context: fColorless green ideas sleep\n",
      "top-size: 387\n",
      "POS Debug - Context: fColorless green ideas sleep furiously\n",
      "top-size: 255\n",
      "POS Debug - Context: fColorless green ideas sleep furiously. Wait\n",
      "top-size: 567\n",
      "POS Debug - Context: fColorless green ideas sleep furiously. Wait — d\n",
      "top-size: 43\n",
      "POS Debug - Context: fColorless green ideas sleep furiously. Wait — did \n",
      "top-size: 292\n"
     ]
    },
    {
     "name": "stderr",
     "output_type": "stream",
     "text": [
      "f:\\Matlab_Project\\PROJECT_HH_ENGLISH\\Pilot_Analysis_3_Way_Split\\lingpred\\lingpred\\pipeline.py:76: RuntimeWarning: divide by zero encountered in log2\n",
      "  return np.log2(sumQ/sumK)\n"
     ]
    },
    {
     "name": "stdout",
     "output_type": "stream",
     "text": [
      "POS Debug - Context: fColorless green ideas sleep furiously. Wait — did you\n",
      "top-size: 40\n",
      "POS Debug - Context: fColorless green ideas sleep furiously. Wait — did you just\n",
      "top-size: 40\n",
      "POS Debug - Context: fColorless green ideas sleep furiously. Wait — did you just say\n",
      "top-size: 326\n",
      "POS Debug - Context: fColorless green ideas sleep furiously. Wait — did you just say, 'We're\n",
      "top-size: 1876\n",
      "POS Debug - Context: fColorless green ideas sleep furiously. Wait — did you just say, 'We're leaving\n",
      "top-size: 685\n",
      "POS Debug - Context: fColorless green ideas sleep furiously. Wait — did you just say, 'We're leaving now\n",
      "top-size: 579\n",
      "POS Debug - Context: fColorless green ideas sleep furiously. Wait — did you just say, 'We're leaving now,' even\n",
      "top-size: 81\n",
      "POS Debug - Context: fColorless green ideas sleep furiously. Wait — did you just say, 'We're leaving now,' even though\n",
      "top-size: 40\n",
      "POS Debug - Context: fColorless green ideas sleep furiously. Wait — did you just say, 'We're leaving now,' even though it's\n",
      "top-size: 77\n",
      "POS Debug - Context: fColorless green ideas sleep furiously. Wait — did you just say, 'We're leaving now,' even though it's 2:00 a.m\n",
      "top-size: 421\n",
      "POS Debug - Context: fColorless green ideas sleep furiously. Wait — did you just say, 'We're leaving now,' even though it's 2:00 a.m. — on\n",
      "top-size: 40\n",
      "POS Debug - Context: fColorless green ideas sleep furiously. Wait — did you just say, 'We're leaving now,' even though it's 2:00 a.m. — on a\n",
      "top-size: 271\n",
      "POS Debug - Context: fColorless green ideas sleep furiously. Wait — did you just say, 'We're leaving now,' even though it's 2:00 a.m. — on a Mo\n",
      "top-size: 290\n",
      "POS Debug - Context: fColorless green ideas sleep furiously. Wait — did you just say, 'We're leaving now,' even though it's 2:00 a.m. — on a Mon\n",
      "top-size: 648\n",
      "POS Debug - Context: fColorless green ideas sleep furiously. Wait — did you just say, 'We're leaving now,' even though it's 2:00 a.m. — on a Monday?\n",
      "top-size: 1653\n"
     ]
    }
   ],
   "source": [
    "lp = LingPred()\n",
    "text = \"Colorless green ideas sleep furiously. Wait — did you just say, 'We're leaving now,' even though it's 2:00 a.m. — on a Monday?\"\n",
    "lp.preprocess(text) # Load text\n",
    "lp.fit() # Run GPT2-Small FFN\n",
    "lp.get_lexical_info() # Get Lexical surprisals\n",
    "lp.get_POS_info() # Get POS labels and surprisals\n",
    "lp.get_phonemic_info() # Get phonemic labels and phonemic susprisals\n"
   ]
  },
  {
   "cell_type": "code",
   "execution_count": 6,
   "id": "1d002ca8",
   "metadata": {},
   "outputs": [
    {
     "name": "stdout",
     "output_type": "stream",
     "text": [
      "Words:  ['Colorless', 'green', 'ideas', 'sleep', 'furiously', 'Wait', '—', 'did', 'you', 'just', 'say', \"We're\", 'leaving', 'now', 'even', 'though', \"it's\", '200', 'am', '—', 'on', 'a', 'Monday']\n",
      "Lexical surprisal: [np.float64(-13.4500199), np.float64(-6.958148), np.float64(-10.3198338), np.float64(-12.0696325), np.float64(-9.8345556), np.float64(-9.1343021), np.float64(-5.93891), np.float64(-4.3620896), np.float64(-0.8612716), np.float64(-2.8468142), np.float64(-2.5345907), np.float64(-6.9373135), np.float64(-6.5131845), np.float64(-6.3685889), np.float64(-7.0286417), np.float64(-0.2271415), np.float64(-3.1795054), np.float64(-9.7636025), np.float64(-1.5141365), np.float64(-4.2857742), np.float64(-6.0379791), np.float64(-1.9110718), np.float64(-4.1710453)]\n",
      "Content words labels:  [True, True, True, True, True, True, False, False, True, True, False, False, True, True, True, False, False, False, False, True, False, False, True]\n",
      "Function words labels:  [False, False, False, False, False, False, True, True, False, False, True, True, False, False, False, True, True, True, False, False, True, True, False]\n",
      "POS surprisal:  [np.float64(-7.091629624031296), np.float64(-5.518642981527268), np.float64(-1.4389318626686287), np.float64(-2.415504652800486), np.float64(-1.643696673656379), np.float64(-5.065685661689562), np.float64(-inf), np.float64(-1.3588535594839828), np.float64(-9.29927840675369), np.float64(-0.33513873353840706), np.float64(-10.659990281511924), np.float64(-10.129539367680243), np.float64(-1.1965766045406883), np.float64(-4.432911125471539), np.float64(-3.479936806355208), np.float64(-0.12577937584741292), np.float64(-0.25445133825795885), np.float64(-4.189473422437832), np.float64(-3.7761418635797015), np.float64(-2.6036958788687414), np.float64(-3.773200259451427), np.float64(-inf), np.float64(-1.7164517666047852)]\n",
      "Initial phonemes ['K', 'G', 'AY', 'S', 'F', 'W', '', 'D', 'Y', 'JH', 'S', 'W', 'L', 'N', 'IY', 'DH', 'IH', '', 'AE', '', 'AA', 'AH', 'M']\n",
      "Phonemic surprisal [np.float64(5.290352220136237), np.float64(5.613435353352616), np.float64(7.557507199509041), np.float64(5.006514894576895), np.float64(5.142401757861971), np.float64(3.9927287052652165), 0, np.float64(4.256380598137572), np.float64(1.2225662284682335), np.float64(4.107084608455165), np.float64(2.2337430685296895), np.float64(4.075369209043953), np.float64(4.934662619368278), np.float64(7.65288681176483), np.float64(10.14024285756026), np.float64(0.3231493119528688), np.float64(3.258693007912021), 0, np.float64(2.4174116270296384), 0, np.float64(5.493205535299642), np.float64(2.665300846596687), np.float64(4.563897874354644)]\n"
     ]
    }
   ],
   "source": [
    "\n",
    "# ----------- Lexical --------------\n",
    "print(\"Words: \", lp.words)\n",
    "print(\"Lexical surprisal:\", lp.out_dict['lexical_surprise'])\n",
    "\n",
    "# ----------- Syntactical / POS --------------\n",
    "print(\"Content words labels: \", lp.out_dict['content_words'])\n",
    "print(\"Function words labels: \", lp.out_dict['function_words'])\n",
    "print(\"POS surprisal: \", lp.out_dict['POS_surprise'])\n",
    "\n",
    "# ----------- Phonemic --------------\n",
    "print(\"Initial phonemes\", lp.out_dict['phoneme'])\n",
    "print(\"Phonemic surprisal\", lp.out_dict['phonemic_surprise'])"
   ]
  },
  {
   "cell_type": "code",
   "execution_count": 9,
   "id": "8efd9ddb",
   "metadata": {},
   "outputs": [
    {
     "data": {
      "text/plain": [
       "(23, 23, 23)"
      ]
     },
     "execution_count": 9,
     "metadata": {},
     "output_type": "execute_result"
    }
   ],
   "source": [
    "len(lp.out_dict['lexical_surprise']), len(lp.out_dict['POS_surprise']), len(lp.out_dict['phonemic_surprise']),"
   ]
  },
  {
   "cell_type": "code",
   "execution_count": null,
   "id": "e31ade17",
   "metadata": {},
   "outputs": [],
   "source": []
  }
 ],
 "metadata": {
  "kernelspec": {
   "display_name": "fnirs_nlp",
   "language": "python",
   "name": "python3"
  },
  "language_info": {
   "codemirror_mode": {
    "name": "ipython",
    "version": 3
   },
   "file_extension": ".py",
   "mimetype": "text/x-python",
   "name": "python",
   "nbconvert_exporter": "python",
   "pygments_lexer": "ipython3",
   "version": "3.10.16"
  }
 },
 "nbformat": 4,
 "nbformat_minor": 5
}
