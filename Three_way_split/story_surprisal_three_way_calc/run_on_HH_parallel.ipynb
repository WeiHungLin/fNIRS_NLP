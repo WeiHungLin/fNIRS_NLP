{
 "cells": [
  {
   "cell_type": "code",
   "execution_count": null,
   "id": "7b5b846b",
   "metadata": {},
   "outputs": [],
   "source": [
    "import multiprocessing as mp\n",
    "import sys\n",
    "import os\n",
    "import pandas as pd\n",
    "import math\n",
    "\n",
    "from tqdm import trange"
   ]
  },
  {
   "cell_type": "code",
   "execution_count": null,
   "id": "401920da",
   "metadata": {},
   "outputs": [],
   "source": [
    "# Load your CSV file\n",
    "df = pd.read_csv(\"./DesignMatrix/HH_time_matrix.csv\")  # Replace with the actual filename\n",
    "\n",
    "# Extract the 'Text' column\n",
    "text_column = df[\"Text\"]\n",
    "\n",
    "# Combine into a single string\n",
    "cleaned_text = \" \".join(df[\"Text\"].astype(str).str.strip())\n",
    "\n",
    "print(cleaned_text)"
   ]
  },
  {
   "cell_type": "code",
   "execution_count": null,
   "id": "8f651caa",
   "metadata": {},
   "outputs": [],
   "source": [
    "if __name__ == \"__main__\":\n",
    "    # Optional: enforce spawn globally\n",
    "    try:\n",
    "        mp.set_start_method(\"spawn\", force=True)\n",
    "    except RuntimeError:\n",
    "        pass\n",
    "\n",
    "    from parallel_blocks_suprisal_safe import compute_suprisal_parallel_blocks\n",
    "\n",
    "    \"\"\"# Quick 10-word smoke test first\n",
    "    test_text = \" \".join(cleaned_text.split()[:10])\n",
    "    df_test = compute_suprisal_parallel_blocks(\n",
    "        test_text,\n",
    "        window_words=200,\n",
    "        n_workers=4,\n",
    "        block_size=32,\n",
    "        save_path=\"story_surprisal_parallel_blocks_test.csv\",\n",
    "    )\n",
    "    print(df_test.head())\"\"\"\n",
    "\n",
    "    # If good, run full with more workers and bigger blocks\n",
    "    df_full = compute_suprisal_parallel_blocks(\n",
    "        cleaned_text,\n",
    "        window_words=200,\n",
    "        n_workers=20,      # your Mac Studio target\n",
    "        block_size=128,    # or 256 once stable\n",
    "        save_path=\"story_surprisal_parallel_blocks.csv\",\n",
    "    )"
   ]
  },
  {
   "cell_type": "code",
   "execution_count": null,
   "id": "471f0766",
   "metadata": {},
   "outputs": [],
   "source": []
  }
 ],
 "metadata": {
  "kernelspec": {
   "display_name": "fnirs_llm",
   "language": "python",
   "name": "python3"
  },
  "language_info": {
   "codemirror_mode": {
    "name": "ipython",
    "version": 3
   },
   "file_extension": ".py",
   "mimetype": "text/x-python",
   "name": "python",
   "nbconvert_exporter": "python",
   "pygments_lexer": "ipython3",
   "version": "3.12.2"
  }
 },
 "nbformat": 4,
 "nbformat_minor": 5
}
