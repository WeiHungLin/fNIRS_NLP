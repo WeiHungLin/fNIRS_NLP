{
 "cells": [
  {
   "cell_type": "code",
   "execution_count": null,
   "metadata": {},
   "outputs": [],
   "source": [
    "# This code aligns the rounded time matrix and the design matrix, it sums the word rate, word freq, and gpt suprasial values to second-base for the recoding in next step\n",
    "# By Frank Hu, 2025-09"
   ]
  },
  {
   "cell_type": "code",
   "execution_count": 1,
   "metadata": {},
   "outputs": [],
   "source": [
    "import pandas as pd"
   ]
  },
  {
   "cell_type": "code",
   "execution_count": 9,
   "metadata": {},
   "outputs": [
    {
     "name": "stdout",
     "output_type": "stream",
     "text": [
      "     Start_time_adjusted_round  Log_Freq_HAL  gpt_window_300  WordRate\n",
      "0                            0         50.68           33.38         5\n",
      "1                            1         41.29           13.25         3\n",
      "2                            2          0.00           11.89         1\n",
      "3                            3         51.46           16.22         4\n",
      "4                            4         49.71           22.04         4\n",
      "..                         ...           ...             ...       ...\n",
      "735                        832         39.06            9.33         3\n",
      "736                        833         42.28           12.53         3\n",
      "737                        834         47.45           15.52         4\n",
      "738                        835         74.27           11.60         5\n",
      "739                        836         10.48            0.51         1\n",
      "\n",
      "[740 rows x 4 columns]\n"
     ]
    }
   ],
   "source": [
    "\n",
    "# Load the CSV files\n",
    "file1 = pd.read_csv('./csv_xls_files/HH_DesignMatrix.csv')\n",
    "file2 = pd.read_csv('./csv_xls_files/HH_time_matrix_round.csv')\n",
    "\n",
    "# Fix the column names in file1 (they appear to be combined in your example)\n",
    "# Assuming the columns are actually separate and just formatted oddly in your message\n",
    "\"\"\"if 'ID,Word,Log_Freq_HAL,gpt_window_300,WordRate' in file1.columns:\n",
    "    file1 = pd.read_csv('HH_DesignMatrix.csv', header=None, skiprows=1)\n",
    "    file1.columns = ['ID', 'Word', 'Log_Freq_HAL', 'gpt_window', 'WordRate']\"\"\"\n",
    "\n",
    "# Join the two dataframes on the ID column\n",
    "merged_df = pd.merge(file1, file2, on='ID', how='inner')\n",
    "\n",
    "# Group by Start_time_adjusted_round and sum the specified columns\n",
    "grouped = merged_df.groupby('Start_time_adjusted_round').agg({\n",
    "    'Log_Freq_HAL': 'sum',\n",
    "    'gpt_window_300': 'sum', \n",
    "    'WordRate': 'sum'\n",
    "}).reset_index()\n",
    "\n",
    "grouped['Log_Freq_HAL'] = grouped['Log_Freq_HAL'].round(2)\n",
    "grouped['gpt_window_300'] = grouped['gpt_window_300'].round(2)\n",
    "grouped['WordRate'] = grouped['WordRate'].round(2)\n",
    "\n",
    "# Display the result\n",
    "print(grouped)\n",
    "\n",
    "# Save the result to a new CSV file\n",
    "grouped.to_csv('DesignMatrix_finalrounded.csv', index=False)"
   ]
  }
 ],
 "metadata": {
  "kernelspec": {
   "display_name": "fnirs_nlp",
   "language": "python",
   "name": "python3"
  },
  "language_info": {
   "codemirror_mode": {
    "name": "ipython",
    "version": 3
   },
   "file_extension": ".py",
   "mimetype": "text/x-python",
   "name": "python",
   "nbconvert_exporter": "python",
   "pygments_lexer": "ipython3",
   "version": "3.10.16"
  }
 },
 "nbformat": 4,
 "nbformat_minor": 2
}
