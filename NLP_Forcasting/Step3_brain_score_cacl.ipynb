{
 "cells": [
  {
   "cell_type": "code",
   "execution_count": null,
   "metadata": {},
   "outputs": [],
   "source": [
    "# This notebook calculates the brain score and forcast score\n",
    "# by Frank Hu, 2025-09"
   ]
  },
  {
   "cell_type": "code",
   "execution_count": 1,
   "metadata": {},
   "outputs": [],
   "source": [
    "import os\n",
    "import torch\n",
    "import scipy.io\n",
    "import numpy as np\n",
    "import pandas as pd\n",
    "\n",
    "from brain_score import time_series_ridge_cv_cuda"
   ]
  },
  {
   "cell_type": "code",
   "execution_count": 13,
   "metadata": {},
   "outputs": [],
   "source": [
    "class CFG:\n",
    "    device = torch.device('cuda' if torch.cuda.is_available() else 'cpu')\n",
    "    design_matrix_path = '../Example_data/design_matrix_forcasting/design_mat_after_pca.mat'\n",
    "    data_path = '../Example_data/hbo_data_forcast'\n",
    "    result_path = '../Example_data/example_results_forcast/brain_score_results.mat'\n",
    "    random_state = 42  # Random seed for reproducibility"
   ]
  },
  {
   "cell_type": "code",
   "execution_count": null,
   "metadata": {},
   "outputs": [
    {
     "data": {
      "text/plain": [
       "(837, 20)"
      ]
     },
     "execution_count": 5,
     "metadata": {},
     "output_type": "execute_result"
    }
   ],
   "source": [
    "design_mat = scipy.io.loadmat(CFG.design_matrix_path)"
   ]
  },
  {
   "cell_type": "code",
   "execution_count": 6,
   "metadata": {},
   "outputs": [],
   "source": [
    "design_mat_full = [design_mat[\"pc_mat_1\"], np.concatenate([design_mat[\"pc_mat_1\"], design_mat[\"pc_mat_2\"]], axis=1),\n",
    "                   np.concatenate([design_mat[\"pc_mat_1\"], design_mat[\"pc_mat_3\"]], axis=1), np.concatenate([design_mat[\"pc_mat_1\"], design_mat[\"pc_mat_4\"]], axis=1),\n",
    "                   np.concatenate([design_mat[\"pc_mat_1\"], design_mat[\"pc_mat_5\"]], axis=1), np.concatenate([design_mat[\"pc_mat_1\"], design_mat[\"pc_mat_6\"]], axis=1),\n",
    "                   np.concatenate([design_mat[\"pc_mat_1\"], design_mat[\"pc_mat_7\"]], axis=1), np.concatenate([design_mat[\"pc_mat_1\"], design_mat[\"pc_mat_8\"]], axis=1),\n",
    "                   np.concatenate([design_mat[\"pc_mat_1\"], design_mat[\"pc_mat_9\"]], axis=1), np.concatenate([design_mat[\"pc_mat_1\"], design_mat[\"pc_mat_10\"]], axis=1),\n",
    "                   np.concatenate([design_mat[\"pc_mat_1\"], design_mat[\"pc_mat_11\"]], axis=1), np.concatenate([design_mat[\"pc_mat_1\"], design_mat[\"pc_mat_12\"]], axis=1),\n",
    "                   np.concatenate([design_mat[\"pc_mat_1\"], design_mat[\"pc_mat_13\"]], axis=1), np.concatenate([design_mat[\"pc_mat_1\"], design_mat[\"pc_mat_14\"]], axis=1),\n",
    "                   np.concatenate([design_mat[\"pc_mat_1\"], design_mat[\"pc_mat_15\"]], axis=1), np.concatenate([design_mat[\"pc_mat_1\"], design_mat[\"pc_mat_16\"]], axis=1),\n",
    "                   np.concatenate([design_mat[\"pc_mat_1\"], design_mat[\"pc_mat_17\"]], axis=1), np.concatenate([design_mat[\"pc_mat_1\"], design_mat[\"pc_mat_18\"]], axis=1),\n",
    "                   np.concatenate([design_mat[\"pc_mat_1\"], design_mat[\"pc_mat_19\"]], axis=1), np.concatenate([design_mat[\"pc_mat_1\"], design_mat[\"pc_mat_20\"]], axis=1),\n",
    "                   np.concatenate([design_mat[\"pc_mat_1\"], design_mat[\"pc_mat_21\"]], axis=1), np.concatenate([design_mat[\"pc_mat_1\"], design_mat[\"pc_mat_22\"]], axis=1),\n",
    "                   np.concatenate([design_mat[\"pc_mat_1\"], design_mat[\"pc_mat_23\"]], axis=1), np.concatenate([design_mat[\"pc_mat_1\"], design_mat[\"pc_mat_24\"]], axis=1),\n",
    "                   np.concatenate([design_mat[\"pc_mat_1\"], design_mat[\"pc_mat_25\"]], axis=1),]\n"
   ]
  },
  {
   "cell_type": "code",
   "execution_count": null,
   "metadata": {},
   "outputs": [
    {
     "data": {
      "text/plain": [
       "(2, 32, (2, 32, 25))"
      ]
     },
     "execution_count": 7,
     "metadata": {},
     "output_type": "execute_result"
    }
   ],
   "source": [
    "# Get list of .mat files\n",
    "files = [f for f in os.listdir(CFG.data_path) if f.endswith('.mat')]\n",
    "\n",
    "num_files = len(files)\n",
    "# num_channels = 20  # Each Y has 20 columns\n",
    "num_channels = 32  # Each Y has 32 columns full brain\n",
    "brain_score_Z_matrix = np.zeros((num_files, num_channels, len(design_mat_full)))  # Preallocate matrix for weights\n"
   ]
  },
  {
   "cell_type": "code",
   "execution_count": null,
   "metadata": {},
   "outputs": [
    {
     "name": "stdout",
     "output_type": "stream",
     "text": [
      "hbo_data_forcaststory_s02.mat finished...\n",
      "Regression completed. W_matrix shape: (2, 32, 25)\n"
     ]
    }
   ],
   "source": [
    "# Function to calculate brain scores\n",
    "# This loop will take some time to run depending on the number of files and channels (e.g. two files with 32 channels took about 6 min with a NVIDIA RTX 3080 GPU)\n",
    "for i, file_name in enumerate(files):\n",
    "    # Load the .mat file\n",
    "    file_path = os.path.join(CFG.data_path, file_name)\n",
    "    data = scipy.io.loadmat(file_path)\n",
    "    \n",
    "    # Extract X and Y\n",
    "    Y = data['hbodata'][0:837,:] # modified to fit the new size of the design matrix\n",
    "\n",
    "    # Perform regression for each channel\n",
    "    for j in range(num_channels):\n",
    "        word_count = 0\n",
    "        y_j = Y[:, j]  # Extract each channel\n",
    "        for design_mat_cell in design_mat_full:\n",
    "            X = design_mat_cell \n",
    "            results = time_series_ridge_cv_cuda(X, y_j, device=CFG.device)  # Least squares estimation\n",
    "            brain_score_Z_matrix[i, j, word_count] = results['mean_z']  # Store weight\n",
    "            word_count += 1\n",
    "            \n",
    "    print(f\"{file_name} finished...\")\n",
    "    \n",
    "    break   # <- stop after first file\n",
    "\n",
    "# Now, W_matrix is (100, 20) containing all regression coefficients\n",
    "print(\"Regression completed. W_matrix shape:\", brain_score_Z_matrix.shape)"
   ]
  },
  {
   "cell_type": "code",
   "execution_count": 14,
   "metadata": {},
   "outputs": [],
   "source": [
    "# Save the results to a .mat file\n",
    "scipy.io.savemat(CFG.result_path, {\"brain_score\": brain_score_Z_matrix})"
   ]
  }
 ],
 "metadata": {
  "kernelspec": {
   "display_name": "fnirs_nlp",
   "language": "python",
   "name": "python3"
  },
  "language_info": {
   "codemirror_mode": {
    "name": "ipython",
    "version": 3
   },
   "file_extension": ".py",
   "mimetype": "text/x-python",
   "name": "python",
   "nbconvert_exporter": "python",
   "pygments_lexer": "ipython3",
   "version": "3.10.16"
  }
 },
 "nbformat": 4,
 "nbformat_minor": 2
}
