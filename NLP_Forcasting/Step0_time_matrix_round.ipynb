{
 "cells": [
  {
   "cell_type": "code",
   "execution_count": 1,
   "metadata": {},
   "outputs": [],
   "source": [
    "# This code round the start time in the HH_time matrix to make every word with in a second\n",
    "# Also, the maximum word duration in this story is 1 sec, so this modelling should be okay for the HH story\n",
    "\n",
    "# By Frank Hu, 2025-09"
   ]
  },
  {
   "cell_type": "code",
   "execution_count": 1,
   "metadata": {},
   "outputs": [],
   "source": [
    "import pandas as pd\n",
    "import numpy as np\n",
    "import math"
   ]
  },
  {
   "cell_type": "code",
   "execution_count": 2,
   "metadata": {},
   "outputs": [],
   "source": [
    "# Input and output file paths\n",
    "input_file = '../Example_data/timing_matrix/HH_time_matrix.csv'\n",
    "output_file = '../Example_data/timing_matrix/HH_time_matrix_round.csv'\n",
    "output_file_shift = '../Example_data/timing_matrix/HH_time_matrix_round-shift.csv'"
   ]
  },
  {
   "cell_type": "code",
   "execution_count": 3,
   "metadata": {},
   "outputs": [
    {
     "name": "stdout",
     "output_type": "stream",
     "text": [
      "      Section          Text  Start_time_adjusted  Start_time_adjusted_round\n",
      "0           1   when                        0.00                          0\n",
      "1           1   henry                       0.15                          0\n",
      "2           1   left                        0.42                          0\n",
      "3           1   the                         0.76                          0\n",
      "4           1   gym                         0.83                          0\n",
      "...       ...           ...                  ...                        ...\n",
      "1952       12   the                       835.44                        835\n",
      "1953       12   back                      835.54                        835\n",
      "1954       12   of                        835.86                        835\n",
      "1955       12   the                       835.98                        835\n",
      "1956       12   bus                       836.07                        836\n",
      "\n",
      "[1957 rows x 4 columns]\n"
     ]
    }
   ],
   "source": [
    "# Read the CSV file\n",
    "df = pd.read_csv(input_file)\n",
    "\n",
    "# Create a new DataFrame with only the required columns\n",
    "new_df = df[['Section', 'Text', 'Start_time_adjusted']].copy()\n",
    "\n",
    "# Floor round the Start_time_section column\n",
    "new_df['Start_time_adjusted_round'] = new_df['Start_time_adjusted'].apply(math.floor)\n",
    "\n",
    "# Display the result\n",
    "print(new_df)\n",
    "\n",
    "# If you want to save it to a new CSV file\n",
    "new_df.to_csv(output_file, index=False)"
   ]
  },
  {
   "cell_type": "code",
   "execution_count": null,
   "metadata": {},
   "outputs": [],
   "source": [
    "# Additional step: make shifted time matrix based on the time matrix\n",
    "def make_v2_anchor_deltas_no_section(df: pd.DataFrame, n_shifts: int = 25) -> pd.DataFrame:\n",
    "    \"\"\"\n",
    "    Anchor-based deltas with NO sectioning:\n",
    "      Time_shift_0 = Start_time_adjusted\n",
    "      For k>=1: anchor at global k-th row (0-indexed):\n",
    "        Time_shift_k[i] = Start_time_adjusted[i] - Start_time_adjusted[k]  (i >= k)\n",
    "                        = NaN                                             (i <  k)\n",
    "    \"\"\"\n",
    "    required = {\"Text\", \"Start_time_adjusted\"}\n",
    "    if missing := (required - set(df.columns)):\n",
    "        raise ValueError(f\"Missing required columns: {missing}\")\n",
    "\n",
    "    n = len(df)\n",
    "    starts = df[\"Start_time_adjusted\"].to_numpy(dtype=float)\n",
    "    out = pd.DataFrame({\n",
    "        \"ID\": np.arange(n),\n",
    "        \"Text\": df[\"Text\"].astype(str).to_numpy(),\n",
    "        \"Time_shift_0\": starts\n",
    "    })\n",
    "\n",
    "    n_shifts = min(n_shifts, max(0, n - 1))  # avoid anchors beyond last row\n",
    "    for k in range(1, n_shifts + 1):\n",
    "        col = np.full(n, np.nan, dtype=float)\n",
    "        anchor = starts[k]\n",
    "        col[k:] = starts[k:] - anchor\n",
    "        out[f\"Time_shift_{k}\"] = col\n",
    "    return out\n",
    "\n"
   ]
  },
  {
   "cell_type": "code",
   "execution_count": null,
   "metadata": {},
   "outputs": [],
   "source": [
    "# Example usage:\n",
    "round_df = pd.read_csv(output_file)\n",
    "v2 = make_v2_anchor_deltas_no_section(round_df, n_shifts=25)\n",
    "v2 = v2.round(2)\n",
    "v2.to_csv(output_file_shift, index=False)\n"
   ]
  },
  {
   "cell_type": "code",
   "execution_count": null,
   "metadata": {},
   "outputs": [],
   "source": []
  }
 ],
 "metadata": {
  "kernelspec": {
   "display_name": "fnirs_llm",
   "language": "python",
   "name": "python3"
  },
  "language_info": {
   "codemirror_mode": {
    "name": "ipython",
    "version": 3
   },
   "file_extension": ".py",
   "mimetype": "text/x-python",
   "name": "python",
   "nbconvert_exporter": "python",
   "pygments_lexer": "ipython3",
   "version": "3.12.2"
  }
 },
 "nbformat": 4,
 "nbformat_minor": 2
}
