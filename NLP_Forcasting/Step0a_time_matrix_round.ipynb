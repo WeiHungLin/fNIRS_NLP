{
 "cells": [
  {
   "cell_type": "code",
   "execution_count": null,
   "metadata": {},
   "outputs": [],
   "source": [
    "# This code round the start time in the HH_time matrix to make every word with in a second\n",
    "# Also, the maximum word duration in this story is 1 sec, so this modelling should be okay for the HH story"
   ]
  },
  {
   "cell_type": "code",
   "execution_count": null,
   "metadata": {},
   "outputs": [],
   "source": [
    "import pandas as pd\n",
    "import math"
   ]
  },
  {
   "cell_type": "code",
   "execution_count": null,
   "metadata": {},
   "outputs": [],
   "source": [
    "\n",
    "# Read the CSV file\n",
    "df = pd.read_csv('HH_time_matrix.csv')\n",
    "\n",
    "# Create a new DataFrame with only the required columns\n",
    "new_df = df[['Section', 'Text', 'Start_time_adjusted']].copy()\n",
    "\n",
    "# Floor round the Start_time_section column\n",
    "new_df['Start_time_adjusted_round'] = new_df['Start_time_adjusted'].apply(math.floor)\n",
    "\n",
    "# Display the result\n",
    "print(new_df)\n",
    "\n",
    "# If you want to save it to a new CSV file\n",
    "new_df.to_csv('HH_time_matrix_round.csv', index=False)"
   ]
  },
  {
   "cell_type": "code",
   "execution_count": null,
   "metadata": {},
   "outputs": [],
   "source": []
  }
 ],
 "metadata": {
  "kernelspec": {
   "display_name": "fnirs_nlp",
   "language": "python",
   "name": "python3"
  },
  "language_info": {
   "codemirror_mode": {
    "name": "ipython",
    "version": 3
   },
   "file_extension": ".py",
   "mimetype": "text/x-python",
   "name": "python",
   "nbconvert_exporter": "python",
   "pygments_lexer": "ipython3",
   "version": "3.10.16"
  }
 },
 "nbformat": 4,
 "nbformat_minor": 2
}
