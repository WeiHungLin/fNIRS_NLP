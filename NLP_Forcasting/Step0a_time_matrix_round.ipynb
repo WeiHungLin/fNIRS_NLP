{
 "cells": [
  {
   "cell_type": "code",
   "execution_count": null,
   "metadata": {},
   "outputs": [],
   "source": [
    "# This code round the start time in the HH_time matrix to make every word with in a second\n",
    "# Also, the maximum word duration in this story is 1 sec, so this modelling should be okay for the HH story\n",
    "\n",
    "# By Frank Hu, 2025-09"
   ]
  },
  {
   "cell_type": "code",
   "execution_count": 8,
   "metadata": {},
   "outputs": [],
   "source": [
    "import pandas as pd\n",
    "import math"
   ]
  },
  {
   "cell_type": "code",
   "execution_count": null,
   "metadata": {},
   "outputs": [],
   "source": [
    "# Input and output file paths\n",
    "input_file = '../Example_data/surprisal_data/HH_time_matrix.csv'\n",
    "output_file = '../Example_data/surprisal_data/HH_time_matrix_round.csv'"
   ]
  },
  {
   "cell_type": "code",
   "execution_count": null,
   "metadata": {},
   "outputs": [
    {
     "name": "stdout",
     "output_type": "stream",
     "text": [
      "      Section          Text  Start_time_adjusted  Start_time_adjusted_round\n",
      "0           1   when                        0.00                          0\n",
      "1           1   henry                       0.15                          0\n",
      "2           1   left                        0.42                          0\n",
      "3           1   the                         0.76                          0\n",
      "4           1   gym                         0.83                          0\n",
      "...       ...           ...                  ...                        ...\n",
      "1952       12   the                       835.44                        835\n",
      "1953       12   back                      835.54                        835\n",
      "1954       12   of                        835.86                        835\n",
      "1955       12   the                       835.98                        835\n",
      "1956       12   bus                       836.07                        836\n",
      "\n",
      "[1957 rows x 4 columns]\n"
     ]
    }
   ],
   "source": [
    "# Read the CSV file\n",
    "df = pd.read_csv(input_file)\n",
    "\n",
    "# Create a new DataFrame with only the required columns\n",
    "new_df = df[['Section', 'Text', 'Start_time_adjusted']].copy()\n",
    "\n",
    "# Floor round the Start_time_section column\n",
    "new_df['Start_time_adjusted_round'] = new_df['Start_time_adjusted'].apply(math.floor)\n",
    "\n",
    "# Display the result\n",
    "print(new_df)\n",
    "\n",
    "# If you want to save it to a new CSV file\n",
    "new_df.to_csv(output_file, index=False)"
   ]
  }
 ],
 "metadata": {
  "kernelspec": {
   "display_name": "fnirs_nlp",
   "language": "python",
   "name": "python3"
  },
  "language_info": {
   "codemirror_mode": {
    "name": "ipython",
    "version": 3
   },
   "file_extension": ".py",
   "mimetype": "text/x-python",
   "name": "python",
   "nbconvert_exporter": "python",
   "pygments_lexer": "ipython3",
   "version": "3.10.16"
  }
 },
 "nbformat": 4,
 "nbformat_minor": 2
}
